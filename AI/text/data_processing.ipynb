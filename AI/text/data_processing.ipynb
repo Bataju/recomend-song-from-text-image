{
 "cells": [
  {
   "cell_type": "code",
   "execution_count": 279,
   "id": "3dda5280-17fa-4830-9b78-f055e4507506",
   "metadata": {},
   "outputs": [],
   "source": [
    "import pandas as pd\n",
    "import numpy as np\n",
    "import re\n",
    "\n",
    "import nltk\n",
    "from nltk.stem import PorterStemmer\n",
    "from nltk.stem import WordNetLemmatizer\n",
    "from nltk.corpus import stopwords\n",
    "# nltk.download('stopwords')\n",
    "# nltk.download('wordnet')\n",
    "# nltk.download('omw-1.4')\n",
    "# nltk.download('punkt')"
   ]
  },
  {
   "cell_type": "code",
   "execution_count": 280,
   "id": "a21929b9-4dc4-473e-bcd5-f26396d5643e",
   "metadata": {},
   "outputs": [
    {
     "data": {
      "text/html": [
       "<div>\n",
       "<style scoped>\n",
       "    .dataframe tbody tr th:only-of-type {\n",
       "        vertical-align: middle;\n",
       "    }\n",
       "\n",
       "    .dataframe tbody tr th {\n",
       "        vertical-align: top;\n",
       "    }\n",
       "\n",
       "    .dataframe thead th {\n",
       "        text-align: right;\n",
       "    }\n",
       "</style>\n",
       "<table border=\"1\" class=\"dataframe\">\n",
       "  <thead>\n",
       "    <tr style=\"text-align: right;\">\n",
       "      <th></th>\n",
       "      <th>tweet_id</th>\n",
       "      <th>sentiment</th>\n",
       "      <th>content</th>\n",
       "    </tr>\n",
       "  </thead>\n",
       "  <tbody>\n",
       "    <tr>\n",
       "      <th>0</th>\n",
       "      <td>1956967341</td>\n",
       "      <td>empty</td>\n",
       "      <td>@tiffanylue i know  i was listenin to bad habi...</td>\n",
       "    </tr>\n",
       "    <tr>\n",
       "      <th>1</th>\n",
       "      <td>1956967666</td>\n",
       "      <td>sadness</td>\n",
       "      <td>Layin n bed with a headache  ughhhh...waitin o...</td>\n",
       "    </tr>\n",
       "    <tr>\n",
       "      <th>2</th>\n",
       "      <td>1956967696</td>\n",
       "      <td>sadness</td>\n",
       "      <td>Funeral ceremony...gloomy friday...</td>\n",
       "    </tr>\n",
       "    <tr>\n",
       "      <th>3</th>\n",
       "      <td>1956967789</td>\n",
       "      <td>enthusiasm</td>\n",
       "      <td>wants to hang out with friends SOON!</td>\n",
       "    </tr>\n",
       "    <tr>\n",
       "      <th>4</th>\n",
       "      <td>1956968416</td>\n",
       "      <td>neutral</td>\n",
       "      <td>@dannycastillo We want to trade with someone w...</td>\n",
       "    </tr>\n",
       "  </tbody>\n",
       "</table>\n",
       "</div>"
      ],
      "text/plain": [
       "     tweet_id   sentiment                                            content\n",
       "0  1956967341       empty  @tiffanylue i know  i was listenin to bad habi...\n",
       "1  1956967666     sadness  Layin n bed with a headache  ughhhh...waitin o...\n",
       "2  1956967696     sadness                Funeral ceremony...gloomy friday...\n",
       "3  1956967789  enthusiasm               wants to hang out with friends SOON!\n",
       "4  1956968416     neutral  @dannycastillo We want to trade with someone w..."
      ]
     },
     "execution_count": 280,
     "metadata": {},
     "output_type": "execute_result"
    }
   ],
   "source": [
    "df = pd.read_csv(\"data/tweet_emotions.csv\")\n",
    "df.head()"
   ]
  },
  {
   "cell_type": "code",
   "execution_count": 281,
   "id": "aac84cba-f94e-4a07-ba90-da133b526715",
   "metadata": {},
   "outputs": [
    {
     "name": "stdout",
     "output_type": "stream",
     "text": [
      "<class 'pandas.core.frame.DataFrame'>\n",
      "RangeIndex: 40000 entries, 0 to 39999\n",
      "Data columns (total 3 columns):\n",
      " #   Column     Non-Null Count  Dtype \n",
      "---  ------     --------------  ----- \n",
      " 0   tweet_id   40000 non-null  int64 \n",
      " 1   sentiment  40000 non-null  object\n",
      " 2   content    40000 non-null  object\n",
      "dtypes: int64(1), object(2)\n",
      "memory usage: 937.6+ KB\n"
     ]
    }
   ],
   "source": [
    "df.info()"
   ]
  },
  {
   "cell_type": "code",
   "execution_count": 282,
   "id": "c8ac9f5f-0676-439f-a32c-de699e5eacc9",
   "metadata": {},
   "outputs": [
    {
     "data": {
      "text/plain": [
       "tweet_id     0\n",
       "sentiment    0\n",
       "content      0\n",
       "dtype: int64"
      ]
     },
     "execution_count": 282,
     "metadata": {},
     "output_type": "execute_result"
    }
   ],
   "source": [
    "df.isnull().sum()"
   ]
  },
  {
   "cell_type": "markdown",
   "id": "a797772a-6b8d-46db-9cae-88e62132f2aa",
   "metadata": {},
   "source": [
    "## We dont need the tweet_id"
   ]
  },
  {
   "cell_type": "code",
   "execution_count": 283,
   "id": "856ec5e5-5cc0-4cb9-82b0-cf9c82a1ff90",
   "metadata": {},
   "outputs": [],
   "source": [
    "df.drop(columns=['tweet_id'],inplace=True)"
   ]
  },
  {
   "cell_type": "code",
   "execution_count": 284,
   "id": "f858c90a-7e9d-4578-bfcc-bb0cfb8455c0",
   "metadata": {},
   "outputs": [
    {
     "data": {
      "text/html": [
       "<div>\n",
       "<style scoped>\n",
       "    .dataframe tbody tr th:only-of-type {\n",
       "        vertical-align: middle;\n",
       "    }\n",
       "\n",
       "    .dataframe tbody tr th {\n",
       "        vertical-align: top;\n",
       "    }\n",
       "\n",
       "    .dataframe thead th {\n",
       "        text-align: right;\n",
       "    }\n",
       "</style>\n",
       "<table border=\"1\" class=\"dataframe\">\n",
       "  <thead>\n",
       "    <tr style=\"text-align: right;\">\n",
       "      <th></th>\n",
       "      <th>sentiment</th>\n",
       "      <th>content</th>\n",
       "    </tr>\n",
       "  </thead>\n",
       "  <tbody>\n",
       "    <tr>\n",
       "      <th>0</th>\n",
       "      <td>empty</td>\n",
       "      <td>@tiffanylue i know  i was listenin to bad habi...</td>\n",
       "    </tr>\n",
       "    <tr>\n",
       "      <th>1</th>\n",
       "      <td>sadness</td>\n",
       "      <td>Layin n bed with a headache  ughhhh...waitin o...</td>\n",
       "    </tr>\n",
       "    <tr>\n",
       "      <th>2</th>\n",
       "      <td>sadness</td>\n",
       "      <td>Funeral ceremony...gloomy friday...</td>\n",
       "    </tr>\n",
       "    <tr>\n",
       "      <th>3</th>\n",
       "      <td>enthusiasm</td>\n",
       "      <td>wants to hang out with friends SOON!</td>\n",
       "    </tr>\n",
       "    <tr>\n",
       "      <th>4</th>\n",
       "      <td>neutral</td>\n",
       "      <td>@dannycastillo We want to trade with someone w...</td>\n",
       "    </tr>\n",
       "  </tbody>\n",
       "</table>\n",
       "</div>"
      ],
      "text/plain": [
       "    sentiment                                            content\n",
       "0       empty  @tiffanylue i know  i was listenin to bad habi...\n",
       "1     sadness  Layin n bed with a headache  ughhhh...waitin o...\n",
       "2     sadness                Funeral ceremony...gloomy friday...\n",
       "3  enthusiasm               wants to hang out with friends SOON!\n",
       "4     neutral  @dannycastillo We want to trade with someone w..."
      ]
     },
     "execution_count": 284,
     "metadata": {},
     "output_type": "execute_result"
    }
   ],
   "source": [
    "df.head()"
   ]
  },
  {
   "cell_type": "markdown",
   "id": "7443a424-9ca7-4729-933a-fb39d0558643",
   "metadata": {},
   "source": [
    "## Changing sentiment to numeric labels"
   ]
  },
  {
   "cell_type": "code",
   "execution_count": 285,
   "id": "28281aff-73d2-4922-9c12-7ba383acbd2d",
   "metadata": {},
   "outputs": [],
   "source": [
    "df.drop(df[df['sentiment'] == 'empty'].index,inplace=True)"
   ]
  },
  {
   "cell_type": "code",
   "execution_count": 286,
   "id": "ed623aec-b632-4369-af9e-bf27435a07a9",
   "metadata": {},
   "outputs": [
    {
     "data": {
      "text/plain": [
       "sentiment\n",
       "neutral       8638\n",
       "worry         8459\n",
       "happiness     5209\n",
       "sadness       5165\n",
       "love          3842\n",
       "surprise      2187\n",
       "fun           1776\n",
       "relief        1526\n",
       "hate          1323\n",
       "enthusiasm     759\n",
       "boredom        179\n",
       "anger          110\n",
       "Name: count, dtype: int64"
      ]
     },
     "execution_count": 286,
     "metadata": {},
     "output_type": "execute_result"
    }
   ],
   "source": [
    "df['sentiment'].value_counts()"
   ]
  },
  {
   "cell_type": "code",
   "execution_count": 287,
   "id": "1f65d840-e1ac-48b5-9f16-e310b9a7a6fa",
   "metadata": {},
   "outputs": [
    {
     "data": {
      "text/plain": [
       "array(['sadness', 'enthusiasm', 'neutral', 'worry', 'surprise', 'love',\n",
       "       'fun', 'hate', 'happiness', 'boredom', 'relief', 'anger'],\n",
       "      dtype=object)"
      ]
     },
     "execution_count": 287,
     "metadata": {},
     "output_type": "execute_result"
    }
   ],
   "source": [
    "df['sentiment'].unique()\n"
   ]
  },
  {
   "cell_type": "code",
   "execution_count": 288,
   "id": "4b523538-97b1-4a31-9082-fea06823acb6",
   "metadata": {},
   "outputs": [],
   "source": [
    "sentiment_mapping={\n",
    "    'sadness':0,\n",
    "    'worry':1,\n",
    "    'anger':2,\n",
    "    'hate':2,\n",
    "    'neutral':3,\n",
    "    'boredom':3,\n",
    "    'enthusiasm':4,\n",
    "    'surprise':4,\n",
    "    'fun':4,\n",
    "    'relief':5,\n",
    "    'love':6,\n",
    "    'happiness':7\n",
    "}"
   ]
  },
  {
   "cell_type": "code",
   "execution_count": 289,
   "id": "3f7ea844-96eb-4b54-8019-4a58262ed637",
   "metadata": {},
   "outputs": [
    {
     "data": {
      "text/html": [
       "<div>\n",
       "<style scoped>\n",
       "    .dataframe tbody tr th:only-of-type {\n",
       "        vertical-align: middle;\n",
       "    }\n",
       "\n",
       "    .dataframe tbody tr th {\n",
       "        vertical-align: top;\n",
       "    }\n",
       "\n",
       "    .dataframe thead th {\n",
       "        text-align: right;\n",
       "    }\n",
       "</style>\n",
       "<table border=\"1\" class=\"dataframe\">\n",
       "  <thead>\n",
       "    <tr style=\"text-align: right;\">\n",
       "      <th></th>\n",
       "      <th>sentiment</th>\n",
       "      <th>content</th>\n",
       "      <th>label</th>\n",
       "    </tr>\n",
       "  </thead>\n",
       "  <tbody>\n",
       "    <tr>\n",
       "      <th>1</th>\n",
       "      <td>sadness</td>\n",
       "      <td>Layin n bed with a headache  ughhhh...waitin o...</td>\n",
       "      <td>0</td>\n",
       "    </tr>\n",
       "    <tr>\n",
       "      <th>2</th>\n",
       "      <td>sadness</td>\n",
       "      <td>Funeral ceremony...gloomy friday...</td>\n",
       "      <td>0</td>\n",
       "    </tr>\n",
       "    <tr>\n",
       "      <th>3</th>\n",
       "      <td>enthusiasm</td>\n",
       "      <td>wants to hang out with friends SOON!</td>\n",
       "      <td>4</td>\n",
       "    </tr>\n",
       "    <tr>\n",
       "      <th>4</th>\n",
       "      <td>neutral</td>\n",
       "      <td>@dannycastillo We want to trade with someone w...</td>\n",
       "      <td>3</td>\n",
       "    </tr>\n",
       "    <tr>\n",
       "      <th>5</th>\n",
       "      <td>worry</td>\n",
       "      <td>Re-pinging @ghostridah14: why didn't you go to...</td>\n",
       "      <td>1</td>\n",
       "    </tr>\n",
       "  </tbody>\n",
       "</table>\n",
       "</div>"
      ],
      "text/plain": [
       "    sentiment                                            content  label\n",
       "1     sadness  Layin n bed with a headache  ughhhh...waitin o...      0\n",
       "2     sadness                Funeral ceremony...gloomy friday...      0\n",
       "3  enthusiasm               wants to hang out with friends SOON!      4\n",
       "4     neutral  @dannycastillo We want to trade with someone w...      3\n",
       "5       worry  Re-pinging @ghostridah14: why didn't you go to...      1"
      ]
     },
     "execution_count": 289,
     "metadata": {},
     "output_type": "execute_result"
    }
   ],
   "source": [
    "df['label'] = df['sentiment'].map(sentiment_mapping)\n",
    "# df.rename(columns={\"sentiment\":\"label\"},inplace=True)\n",
    "df.head()"
   ]
  },
  {
   "cell_type": "code",
   "execution_count": 290,
   "id": "2f2722d6-ba8c-4c50-ac30-fb1a0f62da06",
   "metadata": {},
   "outputs": [
    {
     "data": {
      "text/plain": [
       "label\n",
       "3    8817\n",
       "1    8459\n",
       "7    5209\n",
       "0    5165\n",
       "4    4722\n",
       "6    3842\n",
       "5    1526\n",
       "2    1433\n",
       "Name: count, dtype: int64"
      ]
     },
     "execution_count": 290,
     "metadata": {},
     "output_type": "execute_result"
    }
   ],
   "source": [
    "df['label'].value_counts()\n"
   ]
  },
  {
   "cell_type": "code",
   "execution_count": 291,
   "id": "d0c82619-c96b-424b-9471-49d515cee71d",
   "metadata": {},
   "outputs": [
    {
     "name": "stdout",
     "output_type": "stream",
     "text": [
      "39173\n",
      "39173\n",
      "True\n"
     ]
    }
   ],
   "source": [
    "X=df['content']\n",
    "y=df['label']\n",
    "print(len(X))\n",
    "print(len(y))\n",
    "print(len(X)==len(y))"
   ]
  },
  {
   "cell_type": "markdown",
   "id": "dccd96ca-c7a5-4215-bf79-c2a95cc97cbc",
   "metadata": {},
   "source": [
    "## Data cleaning"
   ]
  },
  {
   "cell_type": "code",
   "execution_count": 292,
   "id": "b7c4303a-650b-4c76-8183-e0d261a608dd",
   "metadata": {},
   "outputs": [],
   "source": [
    "def clean_text_1(text):\n",
    "    #removing @ tags \n",
    "    text=re.sub(r'@[a-zA-z0-9]+\\s*',' ',str(text))\n",
    "    \n",
    "    #removing urls\n",
    "    text=re.sub(r'http\\S+', '', text)\n",
    "    text=re.sub(r'www\\.\\S+', '', text)\n",
    "    \n",
    "    #replacing multiple whitesapces by a single\n",
    "    text = re.sub(r'\\s+',' ',text)\n",
    "    \n",
    "    # remove all single characters(surrounded by whitespace)\n",
    "    text = re.sub(r'\\s+[a-zA-Z]\\s+', ' ', text)\n",
    "    \n",
    "    # remove all single characters except i and I (surrounded by whitespace)\n",
    "    # text = re.sub(r'\\s+(?![iI])[a-zA-Z]\\s+', ' ', text)\n",
    "    \n",
    "    \n",
    "    # Converting to Lowercase \n",
    "    text = text.lower()\n",
    "    \n",
    "    # Lemmatization- splits into list of words ['The', 'quick', ....]\n",
    "    text = text.split()\n",
    "\n",
    "    lemma = WordNetLemmatizer()\n",
    "    text = [lemma.lemmatize(word) for word in text]\n",
    "    text = ' '.join(text)\n",
    "    \n",
    "    return text"
   ]
  },
  {
   "cell_type": "code",
   "execution_count": 293,
   "id": "2e154c59-51ea-4e9f-ba61-9e1c95d251f8",
   "metadata": {},
   "outputs": [],
   "source": [
    "df['content']=df['content'].apply(clean_text_1)"
   ]
  },
  {
   "cell_type": "markdown",
   "id": "36a1559c-ceee-4b50-a472-3bb644250327",
   "metadata": {
    "tags": []
   },
   "source": [
    "## Stop words are common enginlish words that dont contain too much information"
   ]
  },
  {
   "cell_type": "code",
   "execution_count": 294,
   "id": "5f462d6e-7822-4e32-91b1-5b14298ef13a",
   "metadata": {},
   "outputs": [
    {
     "name": "stdout",
     "output_type": "stream",
     "text": [
      "['a', 'big', 'girl', 'is', 'sg']\n"
     ]
    },
    {
     "data": {
      "text/plain": [
       "{'a', 'is'}"
      ]
     },
     "execution_count": 294,
     "metadata": {},
     "output_type": "execute_result"
    }
   ],
   "source": [
    "print(nltk.word_tokenize(\"a big girl is sg\"))\n",
    "set(nltk.word_tokenize(\"a big girl is sg\"))&stop_words"
   ]
  },
  {
   "cell_type": "code",
   "execution_count": 295,
   "id": "6b1e8a10-f5d2-41e1-8eac-c58ad185818d",
   "metadata": {},
   "outputs": [],
   "source": [
    "def count_stopwords(text):\n",
    "    stop_words = set(stopwords.words(\"english\"))\n",
    "    words = nltk.word_tokenize(text)\n",
    "    return len(set(words) & stop_words)\n",
    "\n",
    "def list_stopwords(text):\n",
    "    stop_words = set(stopwords.words(\"english\"))\n",
    "    words = nltk.word_tokenize(text)\n",
    "    return list(set(words) & stop_words)\n",
    "\n",
    "def remove_stopwords(text):\n",
    "    # Tokenize the text into words\n",
    "    words = nltk.word_tokenize(text)\n",
    "    \n",
    "    # Get the list of stopwords\n",
    "    stop_words = set(stopwords.words('english'))\n",
    "    \n",
    "    # Remove stopwords from the text\n",
    "    filtered_words = [word for word in words if word.lower() not in stop_words]\n",
    "    \n",
    "    # Recreate the text without stopwords\n",
    "    filtered_text = ' '.join(filtered_words)\n",
    "    \n",
    "    return filtered_text"
   ]
  },
  {
   "cell_type": "code",
   "execution_count": 296,
   "id": "686cf3cd-e307-4459-ba4c-d1840ffaf77b",
   "metadata": {},
   "outputs": [
    {
     "data": {
      "text/html": [
       "<div>\n",
       "<style scoped>\n",
       "    .dataframe tbody tr th:only-of-type {\n",
       "        vertical-align: middle;\n",
       "    }\n",
       "\n",
       "    .dataframe tbody tr th {\n",
       "        vertical-align: top;\n",
       "    }\n",
       "\n",
       "    .dataframe thead th {\n",
       "        text-align: right;\n",
       "    }\n",
       "</style>\n",
       "<table border=\"1\" class=\"dataframe\">\n",
       "  <thead>\n",
       "    <tr style=\"text-align: right;\">\n",
       "      <th></th>\n",
       "      <th>sentiment</th>\n",
       "      <th>content</th>\n",
       "      <th>label</th>\n",
       "      <th>stop_words</th>\n",
       "    </tr>\n",
       "  </thead>\n",
       "  <tbody>\n",
       "    <tr>\n",
       "      <th>1</th>\n",
       "      <td>sadness</td>\n",
       "      <td>layin bed with headache ughhhh...waitin on you...</td>\n",
       "      <td>0</td>\n",
       "      <td>3</td>\n",
       "    </tr>\n",
       "    <tr>\n",
       "      <th>2</th>\n",
       "      <td>sadness</td>\n",
       "      <td>funeral ceremony...gloomy friday...</td>\n",
       "      <td>0</td>\n",
       "      <td>0</td>\n",
       "    </tr>\n",
       "    <tr>\n",
       "      <th>3</th>\n",
       "      <td>enthusiasm</td>\n",
       "      <td>want to hang out with friend soon!</td>\n",
       "      <td>4</td>\n",
       "      <td>3</td>\n",
       "    </tr>\n",
       "    <tr>\n",
       "      <th>4</th>\n",
       "      <td>neutral</td>\n",
       "      <td>we want to trade with someone who ha houston t...</td>\n",
       "      <td>3</td>\n",
       "      <td>7</td>\n",
       "    </tr>\n",
       "    <tr>\n",
       "      <th>5</th>\n",
       "      <td>worry</td>\n",
       "      <td>re-pinging : why didn't you go to prom? bc my ...</td>\n",
       "      <td>1</td>\n",
       "      <td>5</td>\n",
       "    </tr>\n",
       "  </tbody>\n",
       "</table>\n",
       "</div>"
      ],
      "text/plain": [
       "    sentiment                                            content  label  \\\n",
       "1     sadness  layin bed with headache ughhhh...waitin on you...      0   \n",
       "2     sadness                funeral ceremony...gloomy friday...      0   \n",
       "3  enthusiasm                 want to hang out with friend soon!      4   \n",
       "4     neutral  we want to trade with someone who ha houston t...      3   \n",
       "5       worry  re-pinging : why didn't you go to prom? bc my ...      1   \n",
       "\n",
       "   stop_words  \n",
       "1           3  \n",
       "2           0  \n",
       "3           3  \n",
       "4           7  \n",
       "5           5  "
      ]
     },
     "execution_count": 296,
     "metadata": {},
     "output_type": "execute_result"
    }
   ],
   "source": [
    "\n",
    "# Add a new col 'stop_words' that contains the count of stopwords\n",
    "df['stop_words'] = df['content'].apply(count_stopwords)\n",
    "value_counts = df['stop_words'].value_counts()\n",
    "df.head()"
   ]
  },
  {
   "cell_type": "code",
   "execution_count": 297,
   "id": "60c1456d-44a1-49c6-8882-174ae0675e82",
   "metadata": {},
   "outputs": [
    {
     "data": {
      "text/plain": [
       "('we want to trade with someone who ha houston tickets, but no one will.',\n",
       " 7,\n",
       " ['no', 'with', 'will', 'we', 'who', 'to', 'but'])"
      ]
     },
     "execution_count": 297,
     "metadata": {},
     "output_type": "execute_result"
    }
   ],
   "source": [
    "# Lets examine a row \n",
    "df.iloc[3]['content'],df.iloc[3]['stop_words'],list_stopwords(df.iloc[3]['content'])"
   ]
  },
  {
   "cell_type": "code",
   "execution_count": 298,
   "id": "ffc630c8-9308-4a03-8b3a-1258b30483dc",
   "metadata": {},
   "outputs": [
    {
     "data": {
      "text/html": [
       "<div>\n",
       "<style scoped>\n",
       "    .dataframe tbody tr th:only-of-type {\n",
       "        vertical-align: middle;\n",
       "    }\n",
       "\n",
       "    .dataframe tbody tr th {\n",
       "        vertical-align: top;\n",
       "    }\n",
       "\n",
       "    .dataframe thead th {\n",
       "        text-align: right;\n",
       "    }\n",
       "</style>\n",
       "<table border=\"1\" class=\"dataframe\">\n",
       "  <thead>\n",
       "    <tr style=\"text-align: right;\">\n",
       "      <th></th>\n",
       "      <th>sentiment</th>\n",
       "      <th>content</th>\n",
       "      <th>label</th>\n",
       "      <th>stop_words</th>\n",
       "    </tr>\n",
       "  </thead>\n",
       "  <tbody>\n",
       "    <tr>\n",
       "      <th>1</th>\n",
       "      <td>sadness</td>\n",
       "      <td>layin bed headache ughhhh ... waitin call ...</td>\n",
       "      <td>0</td>\n",
       "      <td>3</td>\n",
       "    </tr>\n",
       "    <tr>\n",
       "      <th>2</th>\n",
       "      <td>sadness</td>\n",
       "      <td>funeral ceremony ... gloomy friday ...</td>\n",
       "      <td>0</td>\n",
       "      <td>0</td>\n",
       "    </tr>\n",
       "    <tr>\n",
       "      <th>3</th>\n",
       "      <td>enthusiasm</td>\n",
       "      <td>want hang friend soon !</td>\n",
       "      <td>4</td>\n",
       "      <td>3</td>\n",
       "    </tr>\n",
       "    <tr>\n",
       "      <th>4</th>\n",
       "      <td>neutral</td>\n",
       "      <td>want trade someone ha houston tickets , one .</td>\n",
       "      <td>3</td>\n",
       "      <td>7</td>\n",
       "    </tr>\n",
       "    <tr>\n",
       "      <th>5</th>\n",
       "      <td>worry</td>\n",
       "      <td>re-pinging : n't go prom ? bc bf n't like friend</td>\n",
       "      <td>1</td>\n",
       "      <td>5</td>\n",
       "    </tr>\n",
       "  </tbody>\n",
       "</table>\n",
       "</div>"
      ],
      "text/plain": [
       "    sentiment                                           content  label  \\\n",
       "1     sadness     layin bed headache ughhhh ... waitin call ...      0   \n",
       "2     sadness            funeral ceremony ... gloomy friday ...      0   \n",
       "3  enthusiasm                           want hang friend soon !      4   \n",
       "4     neutral     want trade someone ha houston tickets , one .      3   \n",
       "5       worry  re-pinging : n't go prom ? bc bf n't like friend      1   \n",
       "\n",
       "   stop_words  \n",
       "1           3  \n",
       "2           0  \n",
       "3           3  \n",
       "4           7  \n",
       "5           5  "
      ]
     },
     "execution_count": 298,
     "metadata": {},
     "output_type": "execute_result"
    }
   ],
   "source": [
    "df['content'] = df['content'].apply(remove_stopwords)\n",
    "df.head()"
   ]
  },
  {
   "cell_type": "markdown",
   "id": "a1b76b88-0bd5-4484-871c-695d44335492",
   "metadata": {
    "tags": []
   },
   "source": [
    "## Data Cleaning"
   ]
  },
  {
   "cell_type": "code",
   "execution_count": 299,
   "id": "10a32e86-bc6e-490e-a884-e3b81141a71a",
   "metadata": {},
   "outputs": [],
   "source": [
    "def clean_text_2(text):\n",
    "    #converting special character and numbers to whitespaces\n",
    "    text = re.sub(r'\\W+',' ',text)\n",
    "    text=re.sub(r'\\d+', '', text)\n",
    "    #replacing multiple whitesapces by a single\n",
    "    text = re.sub(r'\\s+',' ',text)\n",
    "    \n",
    "    # remove all single characters(surrounded by whitespace)\n",
    "    text = re.sub(r'\\s+[a-zA-Z]\\s+', ' ', text)\n",
    "    \n",
    "    # remove all single characters except i and I (surrounded by whitespace)\n",
    "    # text = re.sub(r'\\s+(?![iI])[a-zA-Z]\\s+', ' ', text)\n",
    "    \n",
    "    \n",
    "    # Converting to Lowercase \n",
    "    text = text.lower()\n",
    "    \n",
    "    # Lemmatization- splits into list of words ['The', 'quick', ....]\n",
    "    text = text.split()\n",
    "\n",
    "    lemma = WordNetLemmatizer()\n",
    "    text = [lemma.lemmatize(word) for word in text]\n",
    "    text = ' '.join(text)\n",
    "    \n",
    "    return text"
   ]
  },
  {
   "cell_type": "code",
   "execution_count": 300,
   "id": "da7e1d99-041a-4a01-bcac-96c97e6458bc",
   "metadata": {
    "jupyter": {
     "source_hidden": true
    },
    "tags": []
   },
   "outputs": [],
   "source": [
    "# # Cleaning \n",
    "# cleaned = []\n",
    "\n",
    "# for i in range(0, len(X)):\n",
    "    \n",
    "#     #removing @ tags\n",
    "#     text=re.sub(r'@[a-zA-z0-9]+\\s*',' ',str(X.iloc[i]))\n",
    "    \n",
    "#     #removing urls\n",
    "#     text=re.sub(r'http\\S+', '', text)\n",
    "#     text=re.sub(r'www\\.\\S+', '', text)\n",
    "    \n",
    "#     #converting special character and numbers to whitespaces\n",
    "#     text = re.sub(r'\\W+',' ',text)\n",
    "    \n",
    "#     #replacing multiple whitesapces by a single\n",
    "#     text = re.sub(r'\\s+',' ',text)\n",
    "    \n",
    "#     # remove all single characters(surrounded by whitespace)\n",
    "#     text = re.sub(r'\\s+[a-zA-Z]\\s+', ' ', text)\n",
    "    \n",
    "#     # remove all single characters except i and I (surrounded by whitespace)\n",
    "#     # text = re.sub(r'\\s+(?![iI])[a-zA-Z]\\s+', ' ', text)\n",
    "    \n",
    "    \n",
    "#     # Converting to Lowercase \n",
    "#     text = text.lower()\n",
    "    \n",
    "#     # Lemmatization- splits into list of words ['The', 'quick', ....]\n",
    "#     text = text.split()\n",
    "\n",
    "#     lemma = WordNetLemmatizer()\n",
    "#     text = [lemma.lemmatize(word) for word in text]\n",
    "#     text = ' '.join(text)\n",
    "    \n",
    "#     cleaned.append(text)\n",
    "# print(cleaned[:10])"
   ]
  },
  {
   "cell_type": "code",
   "execution_count": 301,
   "id": "cbd5a442-6ff0-42a4-b506-7b9ee857ad21",
   "metadata": {},
   "outputs": [],
   "source": [
    "# # Making sure that cleaned data has the same length as X\n",
    "# len(cleaned), len(X),len(y)"
   ]
  },
  {
   "cell_type": "code",
   "execution_count": 302,
   "id": "3579f705-c3ad-4c34-971a-1d4e0480e0d5",
   "metadata": {},
   "outputs": [
    {
     "data": {
      "text/html": [
       "<div>\n",
       "<style scoped>\n",
       "    .dataframe tbody tr th:only-of-type {\n",
       "        vertical-align: middle;\n",
       "    }\n",
       "\n",
       "    .dataframe tbody tr th {\n",
       "        vertical-align: top;\n",
       "    }\n",
       "\n",
       "    .dataframe thead th {\n",
       "        text-align: right;\n",
       "    }\n",
       "</style>\n",
       "<table border=\"1\" class=\"dataframe\">\n",
       "  <thead>\n",
       "    <tr style=\"text-align: right;\">\n",
       "      <th></th>\n",
       "      <th>sentiment</th>\n",
       "      <th>content</th>\n",
       "      <th>label</th>\n",
       "      <th>stop_words</th>\n",
       "    </tr>\n",
       "  </thead>\n",
       "  <tbody>\n",
       "    <tr>\n",
       "      <th>1</th>\n",
       "      <td>sadness</td>\n",
       "      <td>layin bed headache ughhhh waitin call</td>\n",
       "      <td>0</td>\n",
       "      <td>3</td>\n",
       "    </tr>\n",
       "    <tr>\n",
       "      <th>2</th>\n",
       "      <td>sadness</td>\n",
       "      <td>funeral ceremony gloomy friday</td>\n",
       "      <td>0</td>\n",
       "      <td>0</td>\n",
       "    </tr>\n",
       "    <tr>\n",
       "      <th>3</th>\n",
       "      <td>enthusiasm</td>\n",
       "      <td>want hang friend soon</td>\n",
       "      <td>4</td>\n",
       "      <td>3</td>\n",
       "    </tr>\n",
       "    <tr>\n",
       "      <th>4</th>\n",
       "      <td>neutral</td>\n",
       "      <td>want trade someone ha houston ticket one</td>\n",
       "      <td>3</td>\n",
       "      <td>7</td>\n",
       "    </tr>\n",
       "    <tr>\n",
       "      <th>5</th>\n",
       "      <td>worry</td>\n",
       "      <td>re pinging t go prom bc bf t like friend</td>\n",
       "      <td>1</td>\n",
       "      <td>5</td>\n",
       "    </tr>\n",
       "  </tbody>\n",
       "</table>\n",
       "</div>"
      ],
      "text/plain": [
       "    sentiment                                   content  label  stop_words\n",
       "1     sadness     layin bed headache ughhhh waitin call      0           3\n",
       "2     sadness            funeral ceremony gloomy friday      0           0\n",
       "3  enthusiasm                     want hang friend soon      4           3\n",
       "4     neutral  want trade someone ha houston ticket one      3           7\n",
       "5       worry  re pinging t go prom bc bf t like friend      1           5"
      ]
     },
     "execution_count": 302,
     "metadata": {},
     "output_type": "execute_result"
    }
   ],
   "source": [
    "df['content'] = df['content'].apply(clean_text_2)\n",
    "df.head()"
   ]
  },
  {
   "cell_type": "code",
   "execution_count": 303,
   "id": "96788f41-a4f0-4e8e-8a8a-67c07ca2881b",
   "metadata": {},
   "outputs": [
    {
     "data": {
      "text/html": [
       "<div>\n",
       "<style scoped>\n",
       "    .dataframe tbody tr th:only-of-type {\n",
       "        vertical-align: middle;\n",
       "    }\n",
       "\n",
       "    .dataframe tbody tr th {\n",
       "        vertical-align: top;\n",
       "    }\n",
       "\n",
       "    .dataframe thead th {\n",
       "        text-align: right;\n",
       "    }\n",
       "</style>\n",
       "<table border=\"1\" class=\"dataframe\">\n",
       "  <thead>\n",
       "    <tr style=\"text-align: right;\">\n",
       "      <th></th>\n",
       "      <th>sentiment</th>\n",
       "      <th>content</th>\n",
       "      <th>label</th>\n",
       "      <th>stop_words</th>\n",
       "    </tr>\n",
       "  </thead>\n",
       "  <tbody>\n",
       "    <tr>\n",
       "      <th>1</th>\n",
       "      <td>sadness</td>\n",
       "      <td>layin bed headache ughhhh waitin call</td>\n",
       "      <td>0</td>\n",
       "      <td>3</td>\n",
       "    </tr>\n",
       "    <tr>\n",
       "      <th>2</th>\n",
       "      <td>sadness</td>\n",
       "      <td>funeral ceremony gloomy friday</td>\n",
       "      <td>0</td>\n",
       "      <td>0</td>\n",
       "    </tr>\n",
       "    <tr>\n",
       "      <th>3</th>\n",
       "      <td>enthusiasm</td>\n",
       "      <td>want hang friend soon</td>\n",
       "      <td>4</td>\n",
       "      <td>3</td>\n",
       "    </tr>\n",
       "    <tr>\n",
       "      <th>4</th>\n",
       "      <td>neutral</td>\n",
       "      <td>want trade someone ha houston ticket one</td>\n",
       "      <td>3</td>\n",
       "      <td>7</td>\n",
       "    </tr>\n",
       "    <tr>\n",
       "      <th>5</th>\n",
       "      <td>worry</td>\n",
       "      <td>pinging go prom bc bf like friend</td>\n",
       "      <td>1</td>\n",
       "      <td>5</td>\n",
       "    </tr>\n",
       "  </tbody>\n",
       "</table>\n",
       "</div>"
      ],
      "text/plain": [
       "    sentiment                                   content  label  stop_words\n",
       "1     sadness     layin bed headache ughhhh waitin call      0           3\n",
       "2     sadness            funeral ceremony gloomy friday      0           0\n",
       "3  enthusiasm                     want hang friend soon      4           3\n",
       "4     neutral  want trade someone ha houston ticket one      3           7\n",
       "5       worry         pinging go prom bc bf like friend      1           5"
      ]
     },
     "execution_count": 303,
     "metadata": {},
     "output_type": "execute_result"
    }
   ],
   "source": [
    "df['content'] = df['content'].apply(remove_stopwords)\n",
    "df.head()"
   ]
  },
  {
   "cell_type": "code",
   "execution_count": 304,
   "id": "95a11138-2676-4710-9640-7fdaa9f1a7c6",
   "metadata": {},
   "outputs": [
    {
     "data": {
      "text/plain": [
       "('watch hill london realise tourture week week late watch itonlinelol', 11)"
      ]
     },
     "execution_count": 304,
     "metadata": {},
     "output_type": "execute_result"
    }
   ],
   "source": [
    "# Lets examine a row \n",
    "i=12\n",
    "df.iloc[i]['content'],df.iloc[i]['stop_words']"
   ]
  },
  {
   "cell_type": "code",
   "execution_count": 305,
   "id": "a5445f92-d2df-4087-8089-3c2a533b78c1",
   "metadata": {},
   "outputs": [],
   "source": [
    "df.to_csv('data/cleaned.csv')"
   ]
  },
  {
   "cell_type": "code",
   "execution_count": 1,
   "id": "4105951f-f18c-4ee1-a8c7-9eccce734683",
   "metadata": {},
   "outputs": [
    {
     "ename": "NameError",
     "evalue": "name 'tf' is not defined",
     "output_type": "error",
     "traceback": [
      "\u001b[0;31m---------------------------------------------------------------------------\u001b[0m",
      "\u001b[0;31mNameError\u001b[0m                                 Traceback (most recent call last)",
      "Cell \u001b[0;32mIn[1], line 1\u001b[0m\n\u001b[0;32m----> 1\u001b[0m \u001b[43mtf\u001b[49m\u001b[38;5;241m.\u001b[39mtest\u001b[38;5;241m.\u001b[39mgpu_device_name()\n",
      "\u001b[0;31mNameError\u001b[0m: name 'tf' is not defined"
     ]
    }
   ],
   "source": []
  },
  {
   "cell_type": "code",
   "execution_count": null,
   "id": "8784dfaa-4226-4e83-a239-89e8dc6b788a",
   "metadata": {},
   "outputs": [],
   "source": []
  }
 ],
 "metadata": {
  "kernelspec": {
   "display_name": "song-recomendation-kernel",
   "language": "python",
   "name": "song-recomendation-kernel"
  },
  "language_info": {
   "codemirror_mode": {
    "name": "ipython",
    "version": 3
   },
   "file_extension": ".py",
   "mimetype": "text/x-python",
   "name": "python",
   "nbconvert_exporter": "python",
   "pygments_lexer": "ipython3",
   "version": "3.11.6"
  }
 },
 "nbformat": 4,
 "nbformat_minor": 5
}
