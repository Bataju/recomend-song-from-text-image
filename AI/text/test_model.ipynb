{
 "cells": [
  {
   "cell_type": "code",
   "execution_count": 171,
   "id": "caa64063-31f8-4e50-9a87-664742a6bb54",
   "metadata": {},
   "outputs": [],
   "source": [
    "import tensorflow as tf\n",
    "import pickle\n",
    "from tensorflow.keras import Sequential\n",
    "import numpy as np\n",
    "import nltk\n",
    "from nltk.stem import PorterStemmer\n",
    "from nltk.stem import WordNetLemmatizer\n",
    "from nltk.corpus import stopwords\n",
    "import re"
   ]
  },
  {
   "cell_type": "code",
   "execution_count": 172,
   "id": "976cdfed-04fe-4174-b56d-aece45a592a2",
   "metadata": {},
   "outputs": [],
   "source": [
    "with open('countvectorizer.pkl', 'rb') as f:\n",
    "    count_vectorizer = pickle.load(f)"
   ]
  },
  {
   "cell_type": "code",
   "execution_count": 173,
   "id": "dd8b9c80-0086-41de-8a07-748f29f6c9bd",
   "metadata": {},
   "outputs": [],
   "source": [
    "sentiment_mapping={\n",
    "    '0':'sadness',\n",
    "    '1':'worry',\n",
    "    '2':['anger','hate'],\n",
    "    '3':['neutral','boredom'],\n",
    "    '4':['enthusiasm','surprise','fun'],\n",
    "    '5':'relief',\n",
    "    '6':'love',\n",
    "    '7':'happiness'\n",
    "}"
   ]
  },
  {
   "cell_type": "code",
   "execution_count": 174,
   "id": "9a198262-58cd-476d-a4a2-ba592a165e1e",
   "metadata": {
    "tags": []
   },
   "outputs": [],
   "source": [
    "X=['makes feel wonderful']"
   ]
  },
  {
   "cell_type": "code",
   "execution_count": 175,
   "id": "d0031604-494f-47e5-ad77-1096e196383c",
   "metadata": {},
   "outputs": [
    {
     "data": {
      "text/plain": [
       "array([[0, 0, 0, ..., 0, 0, 0]])"
      ]
     },
     "execution_count": 175,
     "metadata": {},
     "output_type": "execute_result"
    }
   ],
   "source": [
    "X=count_vectorizer.transform(X).toarray()\n",
    "X"
   ]
  },
  {
   "cell_type": "code",
   "execution_count": 176,
   "id": "8bf5c828-96f3-4bd0-8052-aefc756eb4da",
   "metadata": {},
   "outputs": [],
   "source": [
    "_,m=X.shape"
   ]
  },
  {
   "cell_type": "code",
   "execution_count": 177,
   "id": "71db934d-3610-40f0-8f87-7857c51a396a",
   "metadata": {},
   "outputs": [],
   "source": [
    "opt=tf.keras.optimizers.Adam()\n",
    "loss=tf.keras.losses.SparseCategoricalCrossentropy(from_logits=True)\n",
    "batch_size=1000"
   ]
  },
  {
   "cell_type": "code",
   "execution_count": 178,
   "id": "69081c21-b281-4093-9936-b2e8969b81bb",
   "metadata": {},
   "outputs": [
    {
     "name": "stdout",
     "output_type": "stream",
     "text": [
      "Model: \"sequential_3\"\n",
      "_________________________________________________________________\n",
      " Layer (type)                Output Shape              Param #   \n",
      "=================================================================\n",
      " dense_18 (Dense)            (None, 3000)              51525000  \n",
      "                                                                 \n",
      " dense_19 (Dense)            (None, 600)               1800600   \n",
      "                                                                 \n",
      " dense_20 (Dense)            (None, 400)               240400    \n",
      "                                                                 \n",
      " dense_21 (Dense)            (None, 260)               104260    \n",
      "                                                                 \n",
      " dense_22 (Dense)            (None, 30)                7830      \n",
      "                                                                 \n",
      " dense_23 (Dense)            (None, 8)                 248       \n",
      "                                                                 \n",
      "=================================================================\n",
      "Total params: 53678338 (204.77 MB)\n",
      "Trainable params: 53678338 (204.77 MB)\n",
      "Non-trainable params: 0 (0.00 Byte)\n",
      "_________________________________________________________________\n"
     ]
    }
   ],
   "source": [
    "model=Sequential(\n",
    "      [tf.keras.Input(shape=(m,)),\n",
    "      tf.keras.layers.Dense(units=3000,activation='relu'),\n",
    "      tf.keras.layers.Dense(units=600,activation='relu'),\n",
    "      tf.keras.layers.Dense(units=400,activation='relu'),\n",
    "      tf.keras.layers.Dense(units=260,activation='relu'),\n",
    "      tf.keras.layers.Dense(units=30,activation='relu'),\n",
    "      tf.keras.layers.Dense(units=8,activation='linear')])\n",
    "    \n",
    "model.compile(loss=loss,optimizer=opt,metrics='accuracy')\n",
    "model.summary()"
   ]
  },
  {
   "cell_type": "code",
   "execution_count": 179,
   "id": "60815d73-28f3-49c8-95ea-040de2fc6188",
   "metadata": {},
   "outputs": [],
   "source": [
    "model.load_weights('model.h5')"
   ]
  },
  {
   "cell_type": "code",
   "execution_count": 180,
   "id": "4f92a48d-5750-4a75-9e68-17e7fceac0b3",
   "metadata": {},
   "outputs": [],
   "source": [
    "def clean_data(text):\n",
    "    #removing @ tags \n",
    "    text=re.sub(r'@[a-zA-z0-9]+\\s*',' ',str(text))\n",
    "    \n",
    "    #removing urls\n",
    "    text=re.sub(r'http\\S+', '', text)\n",
    "    text=re.sub(r'www\\.\\S+', '', text)\n",
    "    \n",
    "    #replacing multiple whitesapces by a single\n",
    "    text = re.sub(r'\\s+',' ',text)\n",
    "    \n",
    "    # remove all single characters(surrounded by whitespace)\n",
    "    text = re.sub(r'\\s+[a-zA-Z]\\s+', ' ', text)\n",
    "    \n",
    "    # remove all single characters except i and I (surrounded by whitespace)\n",
    "    # text = re.sub(r'\\s+(?![iI])[a-zA-Z]\\s+', ' ', text)\n",
    "    \n",
    "    \n",
    "    # Converting to Lowercase \n",
    "    text = text.lower()\n",
    "    \n",
    "    # Lemmatization- splits into list of words ['The', 'quick', ....]\n",
    "    text = text.split()\n",
    "\n",
    "    lemma = WordNetLemmatizer()\n",
    "    text = [lemma.lemmatize(word) for word in text]\n",
    "    text = ' '.join(text)\n",
    "    \n",
    "    words = nltk.word_tokenize(text)\n",
    "    \n",
    "    # Get the list of stopwords\n",
    "    stop_words = set(stopwords.words('english'))\n",
    "    \n",
    "    # Remove stopwords from the text\n",
    "    filtered_words = [word for word in words if word.lower() not in stop_words]\n",
    "    \n",
    "    # Recreate the text without stopwords\n",
    "    filtered_text = ' '.join(filtered_words)\n",
    "    \n",
    "    return filtered_text"
   ]
  },
  {
   "cell_type": "code",
   "execution_count": 202,
   "id": "c96e0747-754f-450a-9204-5d0aced06d03",
   "metadata": {},
   "outputs": [
    {
     "name": "stdout",
     "output_type": "stream",
     "text": [
      "['want dance']\n"
     ]
    },
    {
     "data": {
      "text/plain": [
       "array([[0, 0, 0, ..., 0, 0, 0]])"
      ]
     },
     "execution_count": 202,
     "metadata": {},
     "output_type": "execute_result"
    }
   ],
   "source": [
    "X='i want to dance'\n",
    "X=[clean_data(X)]\n",
    "print(X)\n",
    "X=count_vectorizer.transform(X).toarray()\n",
    "X"
   ]
  },
  {
   "cell_type": "code",
   "execution_count": 203,
   "id": "91474b13-4de8-4352-a4e2-3a857e0429e1",
   "metadata": {},
   "outputs": [
    {
     "name": "stdout",
     "output_type": "stream",
     "text": [
      "1/1 [==============================] - 0s 23ms/step\n"
     ]
    },
    {
     "data": {
      "text/plain": [
       "['neutral', 'boredom']"
      ]
     },
     "execution_count": 203,
     "metadata": {},
     "output_type": "execute_result"
    }
   ],
   "source": [
    "y=model.predict(X)\n",
    "sentiment_mapping[str(np.argmax(y))]"
   ]
  },
  {
   "cell_type": "code",
   "execution_count": 204,
   "id": "d187edb0-0f07-4bc2-9a51-72bffe36b660",
   "metadata": {},
   "outputs": [
    {
     "data": {
      "text/plain": [
       "<tf.Tensor: shape=(1, 8), dtype=float32, numpy=\n",
       "array([[2.51490701e-06, 1.22948736e-03, 3.55287193e-05, 9.98312950e-01,\n",
       "        1.23260485e-04, 1.28640965e-08, 8.51897930e-09, 2.96186074e-04]],\n",
       "      dtype=float32)>"
      ]
     },
     "execution_count": 204,
     "metadata": {},
     "output_type": "execute_result"
    }
   ],
   "source": [
    "y_sm=tf.nn.softmax(y)\n",
    "y_sm"
   ]
  },
  {
   "cell_type": "code",
   "execution_count": 184,
   "id": "516fc2d8-fc3b-4f56-a864-1c80329b1618",
   "metadata": {},
   "outputs": [
    {
     "data": {
      "text/plain": [
       "1"
      ]
     },
     "execution_count": 184,
     "metadata": {},
     "output_type": "execute_result"
    }
   ],
   "source": [
    "pred=np.argmax(y_sm)\n",
    "pred"
   ]
  },
  {
   "cell_type": "code",
   "execution_count": null,
   "id": "689af254-f3ca-495c-ad79-66f5517c734b",
   "metadata": {},
   "outputs": [],
   "source": []
  }
 ],
 "metadata": {
  "kernelspec": {
   "display_name": "song-recomendation-kernel",
   "language": "python",
   "name": "song-recomendation-kernel"
  },
  "language_info": {
   "codemirror_mode": {
    "name": "ipython",
    "version": 3
   },
   "file_extension": ".py",
   "mimetype": "text/x-python",
   "name": "python",
   "nbconvert_exporter": "python",
   "pygments_lexer": "ipython3",
   "version": "3.11.6"
  }
 },
 "nbformat": 4,
 "nbformat_minor": 5
}
